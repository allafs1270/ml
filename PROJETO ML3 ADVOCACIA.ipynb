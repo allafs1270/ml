{
 "cells": [
  {
   "cell_type": "markdown",
   "metadata": {},
   "source": [
    "#### Implementação de Soluções de Data Science e Machine Learning para NovaJus\n",
    "##### Desenvolver e implementar soluções de análise de dados e machine learning para aumentar a eficiência, precisão e tomada de decisões estratégicas no escritório de advocacia NovaJus"
   ]
  },
  {
   "cell_type": "code",
   "execution_count": 1,
   "metadata": {},
   "outputs": [],
   "source": [
    "# importando o conjunto de dados\n",
    "import pandas as pd\n",
    "import numpy as np"
   ]
  },
  {
   "cell_type": "code",
   "execution_count": 2,
   "metadata": {},
   "outputs": [
    {
     "name": "stderr",
     "output_type": "stream",
     "text": [
      "C:\\Users\\aaron\\AppData\\Local\\Temp\\ipykernel_20668\\2605576073.py:3: DtypeWarning: Columns (203,212,236,253,257,411,918,926,927,928,947,948,949,950,960,961,962,964,965,969,1290) have mixed types. Specify dtype option on import or set low_memory=False.\n",
      "  data = pd.read_csv(file_path, encoding='ISO-8859-1', delimiter=';')  # Ajuste a codificação e o delimitador conforme necessário\n"
     ]
    }
   ],
   "source": [
    "# Carregue o Arquivo CSV\n",
    "file_path = 'JN_31-Ago-2023.csv'  # Substitua com o caminho correto para o seu arquivo\n",
    "data = pd.read_csv(file_path, encoding='ISO-8859-1', delimiter=';')  # Ajuste a codificação e o delimitador conforme necessário\n"
   ]
  },
  {
   "cell_type": "code",
   "execution_count": 3,
   "metadata": {},
   "outputs": [
    {
     "name": "stdout",
     "output_type": "stream",
     "text": [
      "    ano   justica  sigla  seq_orgao apublic2 cnccrim1 cnccrimje cnce1 cnce2  \\\n",
      "0  2009  Estadual   TJAC          8     3249     4269      3534   238     0   \n",
      "1  2009  Estadual   TJAL          9     3038     8204      2107    99     0   \n",
      "2  2009  Estadual   TJAM         10     6085    17253     13244    57     0   \n",
      "3  2009  Estadual   TJAP         11     1411     9160       156   849   671   \n",
      "4  2009  Estadual   TJBA         12     8292    71537     27597  6242  4021   \n",
      "5  2009  Estadual   TJCE         13    13341    53647     16327   283  1012   \n",
      "6  2009  Estadual  TJDFT         14    31935    27510     36842     0     0   \n",
      "7  2009  Estadual   TJES         15    10507    30334     14799  5856  4562   \n",
      "8  2009  Estadual   TJGO         16    26121    15188     31329  1431   288   \n",
      "9  2009  Estadual   TJMA         17     7469    19937      7990  1732    24   \n",
      "\n",
      "  cncf1  ...         ipstarget tcltarget munic areakm comarca varae vara  je  \\\n",
      "0  2449  ...  51,6409295352324        nd    nd     nd      nd    nd   nd  nd   \n",
      "1    39  ...  119,658327553776        nd    nd     nd      nd    nd   nd  nd   \n",
      "2   370  ...  92,6138576452554        nd    nd     nd      nd    nd   nd  nd   \n",
      "3    41  ...  111,648228293106        nd    nd     nd      nd    nd   nd  nd   \n",
      "4  9534  ...  129,112416708864        nd    nd     nd      nd    nd   nd  nd   \n",
      "5    19  ...  180,989596945697        nd    nd     nd      nd    nd   nd  nd   \n",
      "6     0  ...  75,0029243033258        nd    nd     nd      nd    nd   nd  nd   \n",
      "7  2016  ...  156,447212556251        nd    nd     nd      nd    nd   nd  nd   \n",
      "8   586  ...  131,946117478446        nd    nd     nd      nd    nd   nd  nd   \n",
      "9  2270  ...  56,1967667925074        nd    nd     nd      nd    nd   nd  nd   \n",
      "\n",
      "  varaje varah  \n",
      "0     nd    nd  \n",
      "1     nd    nd  \n",
      "2     nd    nd  \n",
      "3     nd    nd  \n",
      "4     nd    nd  \n",
      "5     nd    nd  \n",
      "6     nd    nd  \n",
      "7     nd    nd  \n",
      "8     nd    nd  \n",
      "9     nd    nd  \n",
      "\n",
      "[10 rows x 1314 columns]\n"
     ]
    }
   ],
   "source": [
    "# Para visualizar as primeiras 10 linhas\n",
    "print(data.head(10))"
   ]
  },
  {
   "cell_type": "code",
   "execution_count": 4,
   "metadata": {},
   "outputs": [
    {
     "name": "stdout",
     "output_type": "stream",
     "text": [
      "       ano   justica  sigla  seq_orgao apublic2 cnccrim1 cnccrimje cnce1  \\\n",
      "1279  2022  Trabalho  TRT16      13212       nd       nd        nd    nd   \n",
      "1280  2022  Trabalho  TRT17      13213       nd       nd        nd    nd   \n",
      "1281  2022  Trabalho  TRT18      13214       nd       nd        nd    nd   \n",
      "1282  2022  Trabalho  TRT19      13215       nd       nd        nd    nd   \n",
      "1283  2022  Trabalho  TRT20      13216       nd       nd        nd    nd   \n",
      "1284  2022  Trabalho  TRT21      13217       nd       nd        nd    nd   \n",
      "1285  2022  Trabalho  TRT22      13218       nd       nd        nd    nd   \n",
      "1286  2022  Trabalho  TRT23      13219       nd       nd        nd    nd   \n",
      "1287  2022  Trabalho  TRT24      13220       nd       nd        nd    nd   \n",
      "1288  2022  Trabalho    TRT     999991        0        0         0     0   \n",
      "\n",
      "     cnce2 cncf1  ...         ipstarget          tcltarget munic       areakm  \\\n",
      "1279    nd    nd  ...  121,034990791897  0,514716089492727   217   331936,948   \n",
      "1280    nd    nd  ...  100,883642195557  0,427339185671108    78    46095,299   \n",
      "1281    nd    nd  ...  81,7582522493767  0,368175804436364   246   340111,376   \n",
      "1282    nd    nd  ...  97,2639697118431  0,435340779819159   102    27774,993   \n",
      "1283    nd    nd  ...  84,9202886234255  0,363366431992931    75    21918,493   \n",
      "1284    nd    nd  ...  75,7435908659298  0,353575804736424   167    52811,126   \n",
      "1285    nd    nd  ...  82,8139534883721  0,355089917960049   224   251611,932   \n",
      "1286    nd    nd  ...  92,9830112741537  0,394329947301016   141   903378,292   \n",
      "1287    nd    nd  ...    94,25280594667  0,377873946066685    79   357145,534   \n",
      "1288     0     0  ...   100,86773828579  0,511515615045998  5570  8515767,049   \n",
      "\n",
      "     comarca varae  vara je varaje              varah  \n",
      "1279      16    23    23  0     23  0,319317930946017  \n",
      "1280      12    24    24  0     24  0,580131847212349  \n",
      "1281      25    48    48  0     48  0,661471421591189  \n",
      "1282      11    22    22  0     22  0,649220038974484  \n",
      "1283       7    15    15  0     15   0,63702769822508  \n",
      "1284       9    23    23  0     23  0,641456625287116  \n",
      "1285      11    14    14  0     14  0,422693406664432  \n",
      "1286      26    38    38  0     38   1,05791701103263  \n",
      "1287      21    26    26  0     26  0,909449942473202  \n",
      "1288     656  1587  1587  0   1587  0,738838913707829  \n",
      "\n",
      "[10 rows x 1314 columns]\n"
     ]
    }
   ],
   "source": [
    "# Para visualizar as últimas 510 linhas\n",
    "print(data.tail(10))"
   ]
  },
  {
   "cell_type": "code",
   "execution_count": null,
   "metadata": {},
   "outputs": [],
   "source": []
  }
 ],
 "metadata": {
  "kernelspec": {
   "display_name": "base",
   "language": "python",
   "name": "python3"
  },
  "language_info": {
   "codemirror_mode": {
    "name": "ipython",
    "version": 3
   },
   "file_extension": ".py",
   "mimetype": "text/x-python",
   "name": "python",
   "nbconvert_exporter": "python",
   "pygments_lexer": "ipython3",
   "version": "3.11.5"
  }
 },
 "nbformat": 4,
 "nbformat_minor": 2
}
