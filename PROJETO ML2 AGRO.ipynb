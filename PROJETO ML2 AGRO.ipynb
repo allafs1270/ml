{
 "cells": [
  {
   "cell_type": "markdown",
   "metadata": {},
   "source": [
    "###  PREVISÃO DE SAFRAS\n",
    "#### Prever a produção de safras específicas para o próximo ano em determinadas regiões, ajudando agricultores e cooperativas a planejar vendas, distribuição e armazenamento.\n"
   ]
  },
  {
   "cell_type": "code",
   "execution_count": 9,
   "metadata": {},
   "outputs": [],
   "source": [
    "# Dados de um conjunto de dados no Kaggle\n",
    "# O conjunto de dados é chamado de \"Crop Production Dataset\"\n",
    "# O conjunto de dados é sobre a produção de culturas na Índia\n",
    "# https://www.kaggle.com/datasets/komalkurhe/crop-production-dataset?resource=download\n",
    "# Crop_Data.xls, transformei em csv\n",
    "# informações fundamentais que são essenciais para uma variedade de análises no contexto agrícola, como produção por área, rendimento por cultura e variações anuais\n",
    "\n",
    "import pandas as pd\n",
    "\n",
    "# Carregar o arquivo 'Crop_Data.csv'\n",
    "crop_data = pd.read_csv('Crop_Data.csv')"
   ]
  },
  {
   "cell_type": "code",
   "execution_count": 10,
   "metadata": {},
   "outputs": [
    {
     "data": {
      "text/html": [
       "<div>\n",
       "<style scoped>\n",
       "    .dataframe tbody tr th:only-of-type {\n",
       "        vertical-align: middle;\n",
       "    }\n",
       "\n",
       "    .dataframe tbody tr th {\n",
       "        vertical-align: top;\n",
       "    }\n",
       "\n",
       "    .dataframe thead th {\n",
       "        text-align: right;\n",
       "    }\n",
       "</style>\n",
       "<table border=\"1\" class=\"dataframe\">\n",
       "  <thead>\n",
       "    <tr style=\"text-align: right;\">\n",
       "      <th></th>\n",
       "      <th>State</th>\n",
       "      <th>Crop</th>\n",
       "      <th>Crop_Year</th>\n",
       "      <th>Season</th>\n",
       "      <th>Area</th>\n",
       "      <th>Production</th>\n",
       "      <th>Yield</th>\n",
       "    </tr>\n",
       "  </thead>\n",
       "  <tbody>\n",
       "    <tr>\n",
       "      <th>0</th>\n",
       "      <td>0</td>\n",
       "      <td>0</td>\n",
       "      <td>2007</td>\n",
       "      <td>1</td>\n",
       "      <td>2439.6</td>\n",
       "      <td>3415.0</td>\n",
       "      <td>1.40</td>\n",
       "    </tr>\n",
       "    <tr>\n",
       "      <th>1</th>\n",
       "      <td>0</td>\n",
       "      <td>0</td>\n",
       "      <td>2007</td>\n",
       "      <td>2</td>\n",
       "      <td>1626.4</td>\n",
       "      <td>2277.0</td>\n",
       "      <td>1.40</td>\n",
       "    </tr>\n",
       "    <tr>\n",
       "      <th>2</th>\n",
       "      <td>0</td>\n",
       "      <td>0</td>\n",
       "      <td>2008</td>\n",
       "      <td>0</td>\n",
       "      <td>4147.0</td>\n",
       "      <td>3060.0</td>\n",
       "      <td>0.74</td>\n",
       "    </tr>\n",
       "    <tr>\n",
       "      <th>3</th>\n",
       "      <td>0</td>\n",
       "      <td>0</td>\n",
       "      <td>2008</td>\n",
       "      <td>3</td>\n",
       "      <td>4147.0</td>\n",
       "      <td>2660.0</td>\n",
       "      <td>0.64</td>\n",
       "    </tr>\n",
       "    <tr>\n",
       "      <th>4</th>\n",
       "      <td>0</td>\n",
       "      <td>0</td>\n",
       "      <td>2009</td>\n",
       "      <td>0</td>\n",
       "      <td>4153.0</td>\n",
       "      <td>3120.0</td>\n",
       "      <td>0.75</td>\n",
       "    </tr>\n",
       "  </tbody>\n",
       "</table>\n",
       "</div>"
      ],
      "text/plain": [
       "   State  Crop  Crop_Year  Season    Area  Production  Yield\n",
       "0      0     0       2007       1  2439.6      3415.0   1.40\n",
       "1      0     0       2007       2  1626.4      2277.0   1.40\n",
       "2      0     0       2008       0  4147.0      3060.0   0.74\n",
       "3      0     0       2008       3  4147.0      2660.0   0.64\n",
       "4      0     0       2009       0  4153.0      3120.0   0.75"
      ]
     },
     "execution_count": 10,
     "metadata": {},
     "output_type": "execute_result"
    }
   ],
   "source": [
    "# Mostrar as primeiras linhas do DataFrame para uma visualização inicial dos dados\n",
    "crop_data.head()"
   ]
  },
  {
   "cell_type": "code",
   "execution_count": 11,
   "metadata": {},
   "outputs": [],
   "source": [
    "# Vamos começar com a Análise Exploratória de Dados (EDA)\n",
    "# A EDA é uma abordagem para analisar conjuntos de dados para resumir suas características principais\n",
    "# geralmente com métodos visuais.\n",
    "#  Uma EDA bem feita é uma etapa crucial antes da modelagem, pois nos ajuda a entender as distribuições, possíveis correlações e anomalias nos dados\n",
    "\n",
    "# Importando as bibliotecas necessárias para a análise\n",
    "\n",
    "import matplotlib.pyplot as plt\n",
    "import seaborn as sns"
   ]
  },
  {
   "cell_type": "code",
   "execution_count": 13,
   "metadata": {},
   "outputs": [
    {
     "name": "stdout",
     "output_type": "stream",
     "text": [
      "<class 'pandas.core.frame.DataFrame'>\n",
      "RangeIndex: 345336 entries, 0 to 345335\n",
      "Data columns (total 7 columns):\n",
      " #   Column      Non-Null Count   Dtype  \n",
      "---  ------      --------------   -----  \n",
      " 0   State       345336 non-null  int64  \n",
      " 1   Crop        345336 non-null  int64  \n",
      " 2   Crop_Year   345336 non-null  int64  \n",
      " 3   Season      345336 non-null  int64  \n",
      " 4   Area        345336 non-null  float64\n",
      " 5   Production  345336 non-null  float64\n",
      " 6   Yield       345336 non-null  float64\n",
      "dtypes: float64(3), int64(4)\n",
      "memory usage: 18.4 MB\n"
     ]
    }
   ],
   "source": [
    "# Etapa 1: Entendimento Básico dos Dados\n",
    "info = crop_data.info()"
   ]
  },
  {
   "cell_type": "code",
   "execution_count": 15,
   "metadata": {},
   "outputs": [],
   "source": [
    "# Etapa 2: Entendimento Estatístico dos Dados\n",
    "# Vamos usar o método describe() para obter uma visão geral das estatísticas de resumo dos dados\n",
    "# O método describe() nos dará uma visão geral das estatísticas de resumo dos dados\n",
    "# como a contagem, média, desvio padrão, mínimo e máximo, quartis, etc\n",
    "# O método describe() retorna um DataFrame com as estatísticas de resumo dos dados\n",
    "\n",
    "# Estatísticas de resumo dos dados\n",
    "desc_stats = crop_data.describe()"
   ]
  },
  {
   "cell_type": "code",
   "execution_count": 27,
   "metadata": {},
   "outputs": [
    {
     "data": {
      "image/png": "[encoded data removed]",
      "text/plain": [
       "<Figure size 1800x600 with 3 Axes>"
      ]
     },
     "metadata": {},
     "output_type": "display_data"
    }
   ],
   "source": [
    "# Configurar a figura com subplots\n",
    "fig, ax = plt.subplots(1, 3, figsize=(18, 6))\n",
    "\n",
    "# Histograma para 'Area'\n",
    "sns.histplot(crop_data['Area'], bins=30, kde=True, ax=ax[0])\n",
    "ax[0].set_title('Distribuição da Área')\n",
    "\n",
    "# Histograma para 'Production'\n",
    "sns.histplot(crop_data['Production'], bins=30, kde=True, ax=ax[1])\n",
    "ax[1].set_title('Distribuição da Produção')\n",
    "\n",
    "# Histograma para 'Yield'\n",
    "sns.histplot(crop_data['Yield'], bins=30, kde=True, ax=ax[2])\n",
    "ax[2].set_title('Distribuição do Rendimento')\n",
    "\n",
    "# Ajustar layout para evitar sobreposições\n",
    "plt.tight_layout()\n",
    "plt.show()"
   ]
  },
  {
   "cell_type": "code",
   "execution_count": 28,
   "metadata": {},
   "outputs": [
    {
     "data": {
      "text/plain": [
       "<Figure size 640x480 with 0 Axes>"
      ]
     },
     "metadata": {},
     "output_type": "display_data"
    },
    {
     "data": {
      "text/plain": [
       "(None,\n",
       "                State           Crop      Crop_Year         Season  \\\n",
       " count  345336.000000  345336.000000  345336.000000  345336.000000   \n",
       " mean       19.386493      19.386493    2008.887512       2.092252   \n",
       " std        11.274962      11.274962       6.564361       1.244031   \n",
       " min         0.000000       0.000000    1997.000000       0.000000   \n",
       " 25%        11.000000      11.000000    2003.000000       1.000000   \n",
       " 50%        19.000000      19.000000    2009.000000       2.000000   \n",
       " 75%        31.000000      31.000000    2015.000000       3.000000   \n",
       " max        36.000000      36.000000    2020.000000       5.000000   \n",
       " \n",
       "                Area    Production          Yield  \n",
       " count  3.453360e+05  3.453360e+05  345336.000000  \n",
       " mean   1.167147e+04  9.584726e+05      79.423135  \n",
       " std    4.584079e+04  2.137587e+07     916.678396  \n",
       " min    4.000000e-03  0.000000e+00       0.000000  \n",
       " 25%    7.400000e+01  9.000000e+01       0.550000  \n",
       " 50%    5.320000e+02  7.690000e+02       1.000000  \n",
       " 75%    4.112000e+03  8.141000e+03       2.470000  \n",
       " max    8.580100e+06  1.597800e+09   43958.330000  )"
      ]
     },
     "execution_count": 28,
     "metadata": {},
     "output_type": "execute_result"
    }
   ],
   "source": [
    "plt.tight_layout()\n",
    "plt.show()\n",
    "\n",
    "(info, desc_stats)"
   ]
  },
  {
   "cell_type": "code",
   "execution_count": null,
   "metadata": {},
   "outputs": [],
   "source": []
  }
 ],
 "metadata": {
  "kernelspec": {
   "display_name": "base",
   "language": "python",
   "name": "python3"
  },
  "language_info": {
   "codemirror_mode": {
    "name": "ipython",
    "version": 3
   },
   "file_extension": ".py",
   "mimetype": "text/x-python",
   "name": "python",
   "nbconvert_exporter": "python",
   "pygments_lexer": "ipython3",
   "version": "3.9.16"
  }
 },
 "nbformat": 4,
 "nbformat_minor": 2
}
